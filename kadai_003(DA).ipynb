{
  "nbformat": 4,
  "nbformat_minor": 0,
  "metadata": {
    "colab": {
      "provenance": []
    },
    "kernelspec": {
      "name": "python3",
      "display_name": "Python 3"
    },
    "language_info": {
      "name": "python"
    }
  },
  "cells": [
    {
      "cell_type": "code",
      "execution_count": 8,
      "metadata": {
        "colab": {
          "base_uri": "https://localhost:8080/"
        },
        "id": "H6kw2TmprtFD",
        "outputId": "2b22784f-a82a-42d0-a37a-041b82a224e5"
      },
      "outputs": [
        {
          "output_type": "execute_result",
          "data": {
            "text/plain": [
              "47"
            ]
          },
          "metadata": {},
          "execution_count": 8
        }
      ],
      "source": [
        "#Step1: NumPyをインポートするコードを記述する\n",
        "import numpy as np\n",
        "\n",
        "#Step2: AとBの行列を格納する多次元配列のコードを記述する\n",
        "\n",
        "A = np.array([[0,1],[2,3],[4,5]])\n",
        "B = np.array([[0,1,2,3],[4,5,6,7]])\n",
        "\n",
        "#Step3: 行列の積の計算をするコードを記述する\n",
        "np.dot(A,B)\n",
        "\n",
        "#Step4: Step3.の計算結果を表示するコードを記述する\n",
        "result = np.dot(A,B)\n",
        "\n",
        "#Step5: 行列の要素の最大値を求めるコードを記述する\n",
        "result.max()\n"
      ]
    }
  ]
}